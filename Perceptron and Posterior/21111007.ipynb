{
 "cells": [
  {
   "cell_type": "code",
   "execution_count": 121,
   "id": "638683de",
   "metadata": {},
   "outputs": [],
   "source": [
    "import pandas as pd\n",
    "import numpy as np \n",
    "import matplotlib.pyplot as plt\n",
    "import math"
   ]
  },
  {
   "cell_type": "markdown",
   "id": "34192dc2",
   "metadata": {},
   "source": [
    "# Question 1(a)"
   ]
  },
  {
   "cell_type": "code",
   "execution_count": 94,
   "id": "33766e7c",
   "metadata": {},
   "outputs": [],
   "source": [
    "# Q1 (a)\n",
    "# perceptron function below is the implementation of the algorithm described on slide 7 of Lecture 15 using the\n",
    "# same notations.\n",
    "\n",
    "def perceptron(x,y,learnig_rate,k):\n",
    "    w= np.ones(len(x[0]))\n",
    "    for i in range(k):\n",
    "        # randomly picking up the points\n",
    "        id = np.random.choice(range(0, len(x)))\n",
    "        xn= x[id]\n",
    "        yn= y[id]\n",
    "        \n",
    "        w= np.matrix.transpose(w)\n",
    "        u = np.dot(w, xn)\n",
    "        # w is getting updated only when the algo makes a mistake \n",
    "        if(yn* u < 0):\n",
    "            w = w + yn*xn\n",
    "        \n",
    "    return w\n",
    "        \n",
    "    \n",
    "    "
   ]
  },
  {
   "cell_type": "markdown",
   "id": "a3448b9f",
   "metadata": {},
   "source": [
    "# Question 1 (b)"
   ]
  },
  {
   "cell_type": "code",
   "execution_count": 172,
   "id": "bdd978b9",
   "metadata": {},
   "outputs": [],
   "source": [
    "## Q1 b\n",
    "\n",
    "data =pd.read_csv('data_banknote_authentication.txt') \n",
    "data.head()\n",
    "x= data.iloc[:,:-1].values\n",
    "y= data.iloc[:,-1].values\n",
    "for i in range(len(y)):\n",
    "    if(y[i]==0):\n",
    "        y[i]=-1\n",
    "\n",
    "# fucntion to split the dataset into training set and the held out set (test set)\n",
    "def split(x,y,ratio):\n",
    "    xpos=[]\n",
    "    ypos=[]\n",
    "    xneg=[]\n",
    "    yneg=[]\n",
    "    for i in range(0,len(y)):\n",
    "        if(y[i]==1):\n",
    "            xpos.append(x[i])\n",
    "            ypos.append(y[i])\n",
    "        else:\n",
    "            xneg.append(x[i])\n",
    "            yneg.append(y[i])\n",
    "    x_train=[]\n",
    "    y_train=[]\n",
    "    x_test=[]\n",
    "    y_test=[]\n",
    "    num= int(len(x)*ratio)\n",
    "    #taken a fixed ratio to ensure the variability of data in the both the sets\n",
    "    # divinding into 47(-) and 53(+) of positive and negative data value \n",
    "    nump= int(num*0.53)\n",
    "    numn= num-nump\n",
    "    index = np.random.permutation(len(xpos))\n",
    "    \n",
    "    shuffled_datax=[]\n",
    "    shuffled_datay=[]\n",
    "    for i in index:\n",
    "        shuffled_datax.append( xpos[i])\n",
    "        shuffled_datay.append(ypos[i])\n",
    "        \n",
    "    x_test= shuffled_datax[:nump]\n",
    "    y_test= shuffled_datay[:nump]\n",
    "    \n",
    "    x_train= shuffled_datax[nump:len(xpos)]\n",
    "    y_train= shuffled_datay[nump:len(xpos)]\n",
    "    # traing data and test data\n",
    "    index = np.random.permutation(len(xneg))\n",
    "    j=0\n",
    "    shuffled_datax=[]*len(xneg)\n",
    "    shuffled_datay=[]*len(yneg)\n",
    "    for i in index:\n",
    "        shuffled_datax.append(xneg[i])\n",
    "        shuffled_datay.append(yneg[i])\n",
    "        j+=1\n",
    "    x_test+= shuffled_datax[:numn]\n",
    "    y_test+= shuffled_datay[:numn]\n",
    "    \n",
    "    x_train+= shuffled_datax[nump:len(xneg)]\n",
    "    y_train+= shuffled_datay[nump:len(xneg)]   \n",
    "    return x_train,y_train,x_test,y_test\n",
    "    \n",
    "# fucntion to make the prediction using the prediction fuction defined above \n",
    "# the fucntion takes the input as x and calculated w using the preceptron function defined above\n",
    "\n",
    "def prediction(x,w):\n",
    "    y= np.matmul(x,np.matrix.transpose(w))\n",
    "    return y\n",
    "\n",
    "\n",
    "\n",
    "    \n",
    "    \n",
    "\n",
    "\n",
    "\n"
   ]
  },
  {
   "cell_type": "markdown",
   "id": "9be8b9e1",
   "metadata": {},
   "source": [
    "# Question 1 (c)"
   ]
  },
  {
   "cell_type": "code",
   "execution_count": 173,
   "id": "f688cf12",
   "metadata": {},
   "outputs": [
    {
     "name": "stdout",
     "output_type": "stream",
     "text": [
      "The optimal k:\n",
      "90\n",
      "6.349206349206349\n",
      "w value for the optmial k\n",
      "[-13.63282  -8.74242 -11.31949  -5.15036]\n",
      "9.649122807017543\n"
     ]
    }
   ],
   "source": [
    "# Q1 c\n",
    "\n",
    "# training the algorithm on the dataset using cross-validation\n",
    "#splitting the data\n",
    "# the test set i used here will bascally be held out for all the future calcution as will use this to predict the final error\n",
    "\n",
    "x_train,y_train,x_test,y_test=split(x,y,0.25)\n",
    "w = perceptron(x_train,y_train,0.01,100)\n",
    "y_pred = prediction(x_test,w)\n",
    "\n",
    "#cross validation set\n",
    "x_train1,y_train1,x_validation,y_validation=split(x_train,y_train,0.25)\n",
    "# for different k values we will train the and check the error \n",
    "k_values=[]\n",
    "test_errors=[]\n",
    "for i in range(10,100,10):\n",
    "    w= perceptron(x_train1,y_train1,0.01,i)\n",
    "    y_pred = prediction (x_validation,w)\n",
    "    error=0\n",
    "    for j in range(len(y_pred)):\n",
    "        if(y_pred[j]* y_validation[j]<0):\n",
    "            error+=1\n",
    "    test_error= (error/len(y_pred))*100\n",
    "    k_values.append(i)\n",
    "    test_errors.append(test_error)\n",
    "# the k value with minimum error will be used as optimal k and used furthur for predictions.    \n",
    "min_index=test_errors.index(min(test_errors))\n",
    "print(\"The optimal k:\")\n",
    "print(k_values[min_index])\n",
    "print(test_errors[min_index])\n",
    "\n",
    "#optimal w\n",
    "# the optimal k value found above is now used to calculate the best w we can get from this\n",
    "k_opt= k_values[min_index]\n",
    "w= perceptron(x_train,y_train,0.01,k_opt)\n",
    "print(\"w value for the optmial k\")\n",
    "print(w)\n",
    "#test_set error for optimal k\n",
    "y_pred = prediction (x_test,w)\n",
    "error=0\n",
    "# the held out set (test_set) is used for the furthur predictions and reposting the test set error for that.\n",
    "for j in range(len(y_pred)):\n",
    "    if(y_pred[j]* y_test[j]<0):\n",
    "            error+=1\n",
    "test_set_error=(error/len(y_pred))*100\n",
    "# \n",
    "print(test_set_error)\n",
    "\n",
    "    \n",
    "    \n",
    "    \n",
    "    "
   ]
  },
  {
   "cell_type": "markdown",
   "id": "698ea60f",
   "metadata": {},
   "source": [
    "# Question 1 (d)"
   ]
  },
  {
   "cell_type": "code",
   "execution_count": 116,
   "id": "f7b4e820",
   "metadata": {},
   "outputs": [
    {
     "name": "stdout",
     "output_type": "stream",
     "text": [
      "F1 score is:\n",
      "0.9070422535211268\n"
     ]
    }
   ],
   "source": [
    "#Q1 d\n",
    "# F1 score \n",
    "\n",
    "#doing prediction using best model on the held out set\n",
    "w= perceptron(x_train,y_train,0.01,k_opt)\n",
    "y_pred = prediction (x_test,w)\n",
    "\n",
    "#and the real output is y_test\n",
    "\n",
    "# tp is the true positive value \n",
    "# fn is the false negative value\n",
    "# fp is the false positive value\n",
    "# tn is the true negative value\n",
    "tp=0\n",
    "fn=0\n",
    "fp=0\n",
    "tn=0\n",
    "for i in range(len(y_pred)):\n",
    "    if(y_pred[i]>0 and y_test[i]>0):\n",
    "        tp+=1\n",
    "    if(y_pred[i]<0 and y_test[i]>0):\n",
    "        fn+=1\n",
    "    if(y_pred[i]>0 and y_test[i]<0):\n",
    "        fp+=1\n",
    "    if(y_pred[i]>0 and y_test[i]<0):\n",
    "        tn+=1\n",
    "\n",
    "#precision and recall\n",
    "p= tp/(tp+fp)\n",
    "r= tp/(tp+fn)\n",
    "# calcuating F1 score using the formulae below\n",
    "F1_score= 2*p*r/(p+r)\n",
    "print(\"F1 score is:\")\n",
    "print(F1_score)\n",
    "    \n",
    "\n"
   ]
  },
  {
   "cell_type": "markdown",
   "id": "1e57c1b0",
   "metadata": {},
   "source": [
    "# Question 2 (a)"
   ]
  },
  {
   "cell_type": "code",
   "execution_count": 167,
   "id": "d9a54d50",
   "metadata": {},
   "outputs": [],
   "source": [
    "##Q2 (a)"
   ]
  },
  {
   "cell_type": "markdown",
   "id": "7dc42bef",
   "metadata": {},
   "source": [
    "For the prior distribution\n",
    "\n",
    "From a normal likelihood distribution,  \n",
    "$$ {\\mu} = mean of the data $$\n",
    "$$  \\hat{\\sigma}_1^2 = \\hat{\\sigma}_1^2 of x / {sqrt}50 $$\n",
    "\n",
    "for the prior distribution,\n",
    "$$ mean = 25 $$\n",
    "$$ sd = 5 $$\n",
    "\n",
    "we have likelihood distribution as,\n",
    "\n",
    "$$p({y}/{\\mu})=\\frac{1}{\\sqrt{2\\pi\\sigma_l^2}}\\exp\\left\\{\\frac{-(\\bar y-\\mu)^2}{2\\sigma_l^2}\\right\\}.$$"
   ]
  },
  {
   "cell_type": "code",
   "execution_count": 169,
   "id": "b524136c",
   "metadata": {},
   "outputs": [
    {
     "name": "stdout",
     "output_type": "stream",
     "text": [
      "4.954534334158836\n"
     ]
    },
    {
     "data": {
      "image/png": "[encoded data removed]",
      "text/plain": [
       "<Figure size 1440x576 with 1 Axes>"
      ]
     },
     "metadata": {
      "needs_background": "light"
     },
     "output_type": "display_data"
    }
   ],
   "source": [
    "# Q2 (a)\n",
    "#given mean = 10 and sd =5 \n",
    "x = np.random.normal(loc=10, scale=5, size=50)\n",
    "mean_x= np.mean(x)\n",
    "dd= [(i - mean_x)**2 for i in x]\n",
    "sd_x = np.sqrt(sum(dd) / 50)\n",
    "print(sd_x)\n",
    "# calcuating mean and sd for each of the distribution\n",
    "# for likelihood\n",
    "\n",
    "mean_likelihood = mean_x\n",
    "sd_likelihood= sd_x/(np.sqrt(50))\n",
    "\n",
    "# for the prior\n",
    "\n",
    "mean_prior= 25\n",
    "sd_prior= 5\n",
    "\n",
    "# for the posterior distribution \n",
    " \n",
    "sd_posterior= np.sqrt((((sd_x)**2)*((sd_prior)**2))/ (((sd_x)**2)+ (((sd_prior)**2)*50) ))\n",
    "mean_posterior = ((sd_posterior**2)* ((mean_prior*(sd_x**2))+ (50 * mean_x * ((sd_prior)**2)))/(((sd_x)**2)*((sd_prior)**2)))\n",
    "\n",
    "def normal_pdf(x,mean,sd ):\n",
    "    var = float(sd)**2\n",
    "    d = (2*math.pi*var)**(.5)\n",
    "    num = np.exp(-(float(x)-float(mean))**2/(2*var))\n",
    "    return num/d\n",
    "likeprob=[]\n",
    "postprob=[]\n",
    "priorprob=[]\n",
    "X= np.linspace(5,50,200)\n",
    "for i in range(len(X)):\n",
    "    likeprob.append(normal_pdf(X[i],mean_likelihood,sd_likelihood))\n",
    "    postprob.append(normal_pdf(X[i],mean_posterior,sd_posterior))\n",
    "    priorprob.append(normal_pdf(X[i],mean_prior,sd_prior))\n",
    "    \n",
    "plt.figure(figsize=(20,8))\n",
    "plt.title(\"Distribution\")\n",
    "plt.xlabel(\"theta\")\n",
    "plt.ylabel(\"Probability density function\")\n",
    "plt.plot(X,priorprob,'-b',label='prior')\n",
    "plt.plot(X,likeprob,'g',label='likelihood')\n",
    "plt.plot(X,postprob,'c',label='posterior')\n",
    "plt.legend()\n",
    "plt.show()\n"
   ]
  },
  {
   "cell_type": "markdown",
   "id": "b87271e9",
   "metadata": {},
   "source": [
    "# Question 2(b)"
   ]
  },
  {
   "cell_type": "code",
   "execution_count": 168,
   "id": "fa8a9c9a",
   "metadata": {},
   "outputs": [
    {
     "data": {
      "image/png": "[encoded data removed]",
      "text/plain": [
       "<Figure size 1440x576 with 1 Axes>"
      ]
     },
     "metadata": {
      "needs_background": "light"
     },
     "output_type": "display_data"
    }
   ],
   "source": [
    "# Q2(b)\n",
    "def get_likelihood(x,mu,sigma):\n",
    "    p=1\n",
    "    for i in x:\n",
    "        p*= normal_pdf(i , mu,sigma)\n",
    "    return p\n",
    "def get_prior(candidate,mu,sigma):\n",
    "    return normal_pdf(candidate,mu,sigma)\n",
    "#used this fucnction to calcualte the normal distribution value of evey x\n",
    "def normal(x,mean,sd):\n",
    "    p=[]\n",
    "    for i in x:\n",
    "        p.append( normal_pdf(i,mean,sd))\n",
    "    return p\n",
    "# for calcualtion of the posterior \n",
    "def cal_posterior(mean_x,s, mean_prior,sd_prior,x):\n",
    "    sd_x= 10\n",
    "    sd_posterior= np.sqrt((((sd_x)**2)*((sd_prior)**2))/ (((sd_x)**2)+ (((sd_prior)**2)*50) ))\n",
    "    mean_posterior = ((sd_posterior**2)* ((mean_prior*(sd_x**2))+ (50 * mean_x * ((sd_prior)**2)))/(((sd_x)**2)*((sd_prior)**2)))\n",
    "    return mean_posterior,sd_posterior\n",
    "\n",
    "# calculating the prob of histogram    \n",
    "def  Metropolis(x,n= 200000, sigma= 5):\n",
    "    samp=[5]\n",
    "    theta_curr= 5\n",
    "    flag= False\n",
    "    mu_p=25\n",
    "    sigma_p= 5\n",
    "    post_curr= get_prior(samp[-1],mu_p,sigma_p)* get_likelihood(x,samp[-1],sigma)\n",
    "    for i in range(n):\n",
    "        # we use mean as theta and std\n",
    "        theta_candidate= np.random.normal(samp[-1],sigma)\n",
    "        #new likelihood and prior\n",
    "        prior_new= get_prior(theta_candidate,mu_p,sigma_p)\n",
    "        likelihood_new = get_likelihood(x, theta_candidate, sigma)\n",
    "        \n",
    "        candiate_posterior= likelihood_new * prior_new\n",
    "        #if ratio >1 it is accepted \n",
    "        r=candiate_posterior/ post_curr\n",
    "        if np.random.random()< r:\n",
    "            samp.append(theta_candidate)\n",
    "            post_curr= candiate_posterior\n",
    "        else:\n",
    "            samp.append(samp[-1])\n",
    "            \n",
    "        if(len(samp)== 2500 and flag== False):\n",
    "            samp= samp[2000:]\n",
    "            flag= True\n",
    "            \n",
    "    return samp\n",
    "\n",
    "s= 3\n",
    "m= 10\n",
    "x=[]\n",
    "for i in range(50):\n",
    "    x.append(np.random.normal(loc= m,scale=s))\n",
    "x= np.array(x)\n",
    "mu_like= np.mean(x)\n",
    "mu_post,std_post= cal_posterior(mu_like,s,mean_prior,sd_prior,x)\n",
    "sample= Metropolis(x,sigma=s)\n",
    "\n",
    "x_pt= np.linspace(5,18,500)\n",
    "plt.figure(figsize=(20,8))\n",
    "plt.hist(sample,bins=100,density = True )\n",
    "plt.plot(x_pt,normal(x_pt,mu_post,std_post),label='Posterior',color='r')\n",
    "plt.legend()\n",
    "plt.title('Metropolis')\n",
    "plt.show()\n",
    "    "
   ]
  },
  {
   "cell_type": "code",
   "execution_count": null,
   "id": "9c567ddb",
   "metadata": {},
   "outputs": [],
   "source": [
    "#Q2 (c)\n",
    "\n",
    "\n"
   ]
  },
  {
   "cell_type": "code",
   "execution_count": null,
   "id": "a44f6523",
   "metadata": {},
   "outputs": [],
   "source": []
  }
 ],
 "metadata": {
  "kernelspec": {
   "display_name": "Python 3",
   "language": "python",
   "name": "python3"
  },
  "language_info": {
   "codemirror_mode": {
    "name": "ipython",
    "version": 3
   },
   "file_extension": ".py",
   "mimetype": "text/x-python",
   "name": "python",
   "nbconvert_exporter": "python",
   "pygments_lexer": "ipython3",
   "version": "3.8.8"
  }
 },
 "nbformat": 4,
 "nbformat_minor": 5
}
